{
 "cells": [
  {
   "cell_type": "code",
   "execution_count": 1,
   "metadata": {},
   "outputs": [
    {
     "name": "stdout",
     "output_type": "stream",
     "text": [
      "generated password is il*EP#AD6^J@\n"
     ]
    }
   ],
   "source": [
    "import random\n",
    "lower_case=\"abcdefghijklmnopqrstuvwxyz\"\n",
    "upper_case=\"ABCDEFGHIJKLMNOPQRSTUVWXYZ\"\n",
    "character=\"!@#$^&*,.\"\n",
    "numbers=\"0123456789\"\n",
    "lenght=12\n",
    "answer=lower_case+upper_case+character+numbers\n",
    "password=\"\".join(random.sample(answer,lenght))\n",
    "print(\"generated password is\",password)"
   ]
  }
 ],
 "metadata": {
  "kernelspec": {
   "display_name": "Python 3",
   "language": "python",
   "name": "python3"
  },
  "language_info": {
   "codemirror_mode": {
    "name": "ipython",
    "version": 3
   },
   "file_extension": ".py",
   "mimetype": "text/x-python",
   "name": "python",
   "nbconvert_exporter": "python",
   "pygments_lexer": "ipython3",
   "version": "3.11.4"
  },
  "orig_nbformat": 4
 },
 "nbformat": 4,
 "nbformat_minor": 2
}
